{
 "cells": [
  {
   "cell_type": "code",
   "execution_count": 2,
   "id": "c96d3b4d",
   "metadata": {},
   "outputs": [],
   "source": [
    "import os\n",
    "import argparse\n",
    "import time\n",
    "import numpy as np"
   ]
  },
  {
   "cell_type": "code",
   "execution_count": 3,
   "id": "e66bae0c",
   "metadata": {},
   "outputs": [],
   "source": [
    "import torch\n",
    "import torch.nn as nn\n",
    "import torch.optim as optim"
   ]
  },
  {
   "cell_type": "code",
   "execution_count": 4,
   "id": "8fbe1ab7",
   "metadata": {},
   "outputs": [],
   "source": [
    "parser = argparse.ArgumentParser('ODE demo')\n",
    "parser.add_argument('--method', type=str, choices=['dopri5', 'adams'], default='dopri5')\n",
    "parser.add_argument('--data_size', type=int, default=1000)\n",
    "parser.add_argument('--batch_time', type=int, default=10)\n",
    "parser.add_argument('--batch_size', type=int, default=20)\n",
    "parser.add_argument('--niters', type=int, default=500)\n",
    "parser.add_argument('--test_freq', type=int, default=20)\n",
    "parser.add_argument('--viz', action='store_true')\n",
    "parser.add_argument('--gpu', type=int, default=0)\n",
    "parser.add_argument('--adjoint', action='store_true')\n",
    "# line below is edited to fix error\n",
    "args, unknown = parser.parse_known_args()"
   ]
  },
  {
   "cell_type": "code",
   "execution_count": 5,
   "id": "2b66f726",
   "metadata": {},
   "outputs": [],
   "source": [
    "if args.adjoint:\n",
    "    from torchdiffeq import odeint_adjoint as odeint\n",
    "else:\n",
    "    from torchdiffeq import odeint"
   ]
  },
  {
   "cell_type": "code",
   "execution_count": 6,
   "id": "b5a55a7b",
   "metadata": {},
   "outputs": [],
   "source": [
    "device = torch.device('cuda:' + str(args.gpu) if torch.cuda.is_available() else 'cpu')"
   ]
  },
  {
   "cell_type": "code",
   "execution_count": 7,
   "id": "db848268",
   "metadata": {},
   "outputs": [
    {
     "name": "stdout",
     "output_type": "stream",
     "text": [
      "torch.Size([1000])\n"
     ]
    }
   ],
   "source": [
    "true_y0 = torch.tensor([[2., 0.]]).to(device)\n",
    "t = torch.linspace(0., 25., args.data_size).to(device)\n",
    "true_A = torch.tensor([[-0.1, 2.0], [-2.0, -0.1]]).to(device)\n",
    "print(t.shape)"
   ]
  },
  {
   "cell_type": "code",
   "execution_count": 8,
   "id": "6e8e3dd3",
   "metadata": {},
   "outputs": [],
   "source": [
    "class Lambda(nn.Module):\n",
    "\n",
    "    def forward(self, t, y):\n",
    "        return torch.mm(y**3, true_A)"
   ]
  },
  {
   "cell_type": "code",
   "execution_count": 9,
   "id": "1f9753b2",
   "metadata": {},
   "outputs": [
    {
     "name": "stdout",
     "output_type": "stream",
     "text": [
      "torch.Size([1000, 1, 2])\n",
      "tensor([[[ 2.0000,  0.0000]],\n",
      "\n",
      "        [[ 1.9795,  0.3944]],\n",
      "\n",
      "        [[ 1.9494,  0.7742]],\n",
      "\n",
      "        ...,\n",
      "\n",
      "        [[-0.4418,  0.2882]],\n",
      "\n",
      "        [[-0.4427,  0.2839]],\n",
      "\n",
      "        [[-0.4436,  0.2794]]], device='cuda:0')\n"
     ]
    }
   ],
   "source": [
    "with torch.no_grad():\n",
    "    true_y = odeint(Lambda(), true_y0, t, method='dopri5')\n",
    "print(true_y.shape)\n",
    "print(true_y)"
   ]
  },
  {
   "cell_type": "code",
   "execution_count": 10,
   "id": "4f4a5421",
   "metadata": {},
   "outputs": [],
   "source": [
    "def get_batch():\n",
    "    s = torch.from_numpy(np.random.choice(np.arange(args.data_size - args.batch_time, dtype=np.int64), args.batch_size, replace=False))\n",
    "    batch_y0 = true_y[s]  # (M, D)\n",
    "    batch_t = t[:args.batch_time]  # (T)\n",
    "    batch_y = torch.stack([true_y[s + i] for i in range(args.batch_time)], dim=0)  # (T, M, D)\n",
    "    return batch_y0.to(device), batch_t.to(device), batch_y.to(device)"
   ]
  },
  {
   "cell_type": "code",
   "execution_count": 11,
   "id": "d80ead22",
   "metadata": {},
   "outputs": [
    {
     "name": "stdout",
     "output_type": "stream",
     "text": [
      "torch.Size([20, 1, 2])\n",
      "torch.Size([10])\n",
      "torch.Size([10, 20, 1, 2])\n"
     ]
    }
   ],
   "source": [
    "by0, bt, by = get_batch()\n",
    "print(by0.shape)\n",
    "print(bt.shape)\n",
    "print(by.shape)"
   ]
  },
  {
   "cell_type": "code",
   "execution_count": 34,
   "id": "7d97090a",
   "metadata": {},
   "outputs": [],
   "source": [
    "def makedirs(dirname):\n",
    "    if not os.path.exists(dirname):\n",
    "        os.makedirs(dirname)"
   ]
  },
  {
   "cell_type": "code",
   "execution_count": 35,
   "id": "83fd3f7a",
   "metadata": {},
   "outputs": [],
   "source": [
    "if args.viz:\n",
    "    makedirs('png')\n",
    "    import matplotlib.pyplot as plt\n",
    "    fig = plt.figure(figsize=(12, 4), facecolor='white')\n",
    "    ax_traj = fig.add_subplot(131, frameon=False)\n",
    "    ax_phase = fig.add_subplot(132, frameon=False)\n",
    "    ax_vecfield = fig.add_subplot(133, frameon=False)\n",
    "    plt.show(block=False)"
   ]
  },
  {
   "cell_type": "code",
   "execution_count": 36,
   "id": "38ac18b5",
   "metadata": {},
   "outputs": [],
   "source": [
    "def visualize(true_y, pred_y, odefunc, itr):\n",
    "\n",
    "    if args.viz:\n",
    "\n",
    "        ax_traj.cla()\n",
    "        ax_traj.set_title('Trajectories')\n",
    "        ax_traj.set_xlabel('t')\n",
    "        ax_traj.set_ylabel('x,y')\n",
    "        ax_traj.plot(t.cpu().numpy(), true_y.cpu().numpy()[:, 0, 0], t.cpu().numpy(), true_y.cpu().numpy()[:, 0, 1], 'g-')\n",
    "        ax_traj.plot(t.cpu().numpy(), pred_y.cpu().numpy()[:, 0, 0], '--', t.cpu().numpy(), pred_y.cpu().numpy()[:, 0, 1], 'b--')\n",
    "        ax_traj.set_xlim(t.cpu().min(), t.cpu().max())\n",
    "        ax_traj.set_ylim(-2, 2)\n",
    "        ax_traj.legend()\n",
    "\n",
    "        ax_phase.cla()\n",
    "        ax_phase.set_title('Phase Portrait')\n",
    "        ax_phase.set_xlabel('x')\n",
    "        ax_phase.set_ylabel('y')\n",
    "        ax_phase.plot(true_y.cpu().numpy()[:, 0, 0], true_y.cpu().numpy()[:, 0, 1], 'g-')\n",
    "        ax_phase.plot(pred_y.cpu().numpy()[:, 0, 0], pred_y.cpu().numpy()[:, 0, 1], 'b--')\n",
    "        ax_phase.set_xlim(-2, 2)\n",
    "        ax_phase.set_ylim(-2, 2)\n",
    "\n",
    "        ax_vecfield.cla()\n",
    "        ax_vecfield.set_title('Learned Vector Field')\n",
    "        ax_vecfield.set_xlabel('x')\n",
    "        ax_vecfield.set_ylabel('y')\n",
    "\n",
    "        y, x = np.mgrid[-2:2:21j, -2:2:21j]\n",
    "        dydt = odefunc(0, torch.Tensor(np.stack([x, y], -1).reshape(21 * 21, 2)).to(device)).cpu().detach().numpy()\n",
    "        mag = np.sqrt(dydt[:, 0]**2 + dydt[:, 1]**2).reshape(-1, 1)\n",
    "        dydt = (dydt / mag)\n",
    "        dydt = dydt.reshape(21, 21, 2)\n",
    "\n",
    "        ax_vecfield.streamplot(x, y, dydt[:, :, 0], dydt[:, :, 1], color=\"black\")\n",
    "        ax_vecfield.set_xlim(-2, 2)\n",
    "        ax_vecfield.set_ylim(-2, 2)\n",
    "\n",
    "        fig.tight_layout()\n",
    "        plt.savefig('png/{:03d}'.format(itr))\n",
    "        plt.draw()\n",
    "        plt.pause(0.001)"
   ]
  },
  {
   "cell_type": "code",
   "execution_count": 37,
   "id": "db33fb76",
   "metadata": {},
   "outputs": [],
   "source": [
    "class ODEFunc(nn.Module):\n",
    "\n",
    "    def __init__(self):\n",
    "        super(ODEFunc, self).__init__()\n",
    "\n",
    "        self.net = nn.Sequential(\n",
    "            nn.Linear(2, 50),\n",
    "            nn.Tanh(),\n",
    "            nn.Linear(50, 2),\n",
    "        )\n",
    "\n",
    "        for m in self.net.modules():\n",
    "            if isinstance(m, nn.Linear):\n",
    "                nn.init.normal_(m.weight, mean=0, std=0.1)\n",
    "                nn.init.constant_(m.bias, val=0)\n",
    "\n",
    "    def forward(self, t, y):\n",
    "        return self.net(y**3)"
   ]
  },
  {
   "cell_type": "code",
   "execution_count": 38,
   "id": "30f3ada5",
   "metadata": {},
   "outputs": [],
   "source": [
    "class RunningAverageMeter(object):\n",
    "    \"\"\"Computes and stores the average and current value\"\"\"\n",
    "\n",
    "    def __init__(self, momentum=0.99):\n",
    "        self.momentum = momentum\n",
    "        self.reset()\n",
    "\n",
    "    def reset(self):\n",
    "        self.val = None\n",
    "        self.avg = 0\n",
    "\n",
    "    def update(self, val):\n",
    "        if self.val is None:\n",
    "            self.avg = val\n",
    "        else:\n",
    "            self.avg = self.avg * self.momentum + val * (1 - self.momentum)\n",
    "        self.val = val\n"
   ]
  },
  {
   "cell_type": "code",
   "execution_count": 39,
   "id": "36382a24",
   "metadata": {},
   "outputs": [],
   "source": [
    "ii = 0"
   ]
  },
  {
   "cell_type": "code",
   "execution_count": 40,
   "id": "95baca3f",
   "metadata": {},
   "outputs": [],
   "source": [
    "func = ODEFunc().to(device)"
   ]
  },
  {
   "cell_type": "code",
   "execution_count": 41,
   "id": "4ee0d030",
   "metadata": {},
   "outputs": [],
   "source": [
    "optimizer = optim.RMSprop(func.parameters(), lr=1e-3)\n",
    "end = time.time()"
   ]
  },
  {
   "cell_type": "code",
   "execution_count": 42,
   "id": "0fdfdb97",
   "metadata": {},
   "outputs": [],
   "source": [
    "time_meter = RunningAverageMeter(0.97)"
   ]
  },
  {
   "cell_type": "code",
   "execution_count": 43,
   "id": "f225ad9d",
   "metadata": {},
   "outputs": [],
   "source": [
    "loss_meter = RunningAverageMeter(0.97)"
   ]
  },
  {
   "cell_type": "code",
   "execution_count": 44,
   "id": "1031d2a0",
   "metadata": {},
   "outputs": [
    {
     "name": "stdout",
     "output_type": "stream",
     "text": [
      "torch.Size([20, 1, 2])\n",
      "torch.Size([10])\n"
     ]
    }
   ],
   "source": [
    "batch_y0, batch_t, batch_y = get_batch()\n",
    "print(batch_y0.shape)\n",
    "print(batch_t.shape)"
   ]
  },
  {
   "cell_type": "code",
   "execution_count": 45,
   "id": "9421c027",
   "metadata": {},
   "outputs": [
    {
     "name": "stdout",
     "output_type": "stream",
     "text": [
      "Iter 0020 | Total Loss 0.704405\n",
      "Iter 0040 | Total Loss 0.646594\n",
      "Iter 0060 | Total Loss 0.896133\n",
      "Iter 0080 | Total Loss 0.916797\n",
      "Iter 0100 | Total Loss 0.786801\n",
      "Iter 0120 | Total Loss 0.606235\n",
      "Iter 0140 | Total Loss 0.504052\n",
      "Iter 0160 | Total Loss 0.812353\n",
      "Iter 0180 | Total Loss 0.347902\n",
      "Iter 0200 | Total Loss 0.402888\n",
      "Iter 0220 | Total Loss 0.538116\n",
      "Iter 0240 | Total Loss 0.338865\n",
      "Iter 0260 | Total Loss 0.314633\n",
      "Iter 0280 | Total Loss 0.306688\n",
      "Iter 0300 | Total Loss 0.635846\n",
      "Iter 0320 | Total Loss 0.666869\n",
      "Iter 0340 | Total Loss 0.603634\n",
      "Iter 0360 | Total Loss 0.651890\n",
      "Iter 0380 | Total Loss 0.280985\n",
      "Iter 0400 | Total Loss 0.353793\n",
      "Iter 0420 | Total Loss 0.423785\n",
      "Iter 0440 | Total Loss 0.384070\n",
      "Iter 0460 | Total Loss 0.410169\n",
      "Iter 0480 | Total Loss 0.266400\n",
      "Iter 0500 | Total Loss 0.488250\n"
     ]
    }
   ],
   "source": [
    "for itr in range(1, args.niters + 1):\n",
    "        optimizer.zero_grad()\n",
    "        batch_y0, batch_t, batch_y = get_batch()\n",
    "        pred_y = odeint(func, batch_y0, batch_t).to(device)\n",
    "        loss = torch.mean(torch.abs(pred_y - batch_y))\n",
    "        loss.backward()\n",
    "        optimizer.step()\n",
    "\n",
    "        time_meter.update(time.time() - end)\n",
    "        loss_meter.update(loss.item())\n",
    "\n",
    "        if itr % args.test_freq == 0:\n",
    "            with torch.no_grad():\n",
    "                pred_y = odeint(func, true_y0, t)\n",
    "                loss = torch.mean(torch.abs(pred_y - true_y))\n",
    "                print('Iter {:04d} | Total Loss {:.6f}'.format(itr, loss.item()))\n",
    "                visualize(true_y, pred_y, func, ii)\n",
    "                ii += 1\n",
    "        end = time.time()"
   ]
  },
  {
   "cell_type": "code",
   "execution_count": 46,
   "id": "bed05f2c",
   "metadata": {},
   "outputs": [
    {
     "name": "stdout",
     "output_type": "stream",
     "text": [
      "torch.Size([1000, 1, 2])\n",
      "torch.Size([1000, 1, 2])\n",
      "torch.Size([1, 2])\n"
     ]
    }
   ],
   "source": [
    "print(pred_y.shape)\n",
    "print(true_y.shape)\n",
    "print(true_y0.shape)"
   ]
  }
 ],
 "metadata": {
  "kernelspec": {
   "display_name": "Python 3 (ipykernel)",
   "language": "python",
   "name": "python3"
  },
  "language_info": {
   "codemirror_mode": {
    "name": "ipython",
    "version": 3
   },
   "file_extension": ".py",
   "mimetype": "text/x-python",
   "name": "python",
   "nbconvert_exporter": "python",
   "pygments_lexer": "ipython3",
   "version": "3.9.7"
  },
  "vscode": {
   "interpreter": {
    "hash": "c79f8f21da264bd1d028db25c6791996e084443b727ae68f20d92653727834ef"
   }
  }
 },
 "nbformat": 4,
 "nbformat_minor": 5
}
