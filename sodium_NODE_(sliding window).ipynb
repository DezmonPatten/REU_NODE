{
 "cells": [
  {
   "cell_type": "code",
   "execution_count": 1,
   "id": "c96d3b4d",
   "metadata": {
    "scrolled": true
   },
   "outputs": [],
   "source": [
    "import os\n",
    "import argparse\n",
    "import time\n",
    "import copy\n",
    "import numpy as np\n",
    "import torch\n",
    "import torch.nn as nn\n",
    "import torch.optim as optim\n",
    "import matplotlib.pyplot as plt\n",
    "\n",
    "from sklearn.model_selection import train_test_split\n",
    "from sklearn.preprocessing import StandardScaler\n",
    "from torch.utils.data import Dataset, DataLoader\n",
    "from torch.utils.data import TensorDataset, DataLoader"
   ]
  },
  {
   "cell_type": "code",
   "execution_count": 2,
   "id": "731e2c2a",
   "metadata": {
    "scrolled": false
   },
   "outputs": [
    {
     "name": "stdout",
     "output_type": "stream",
     "text": [
      "BUN , BUN/Creatinine Ratio\n",
      "0.8774417368026577\n",
      "BUN/Creatinine Ratio , BUN\n",
      "0.8774417368026577\n"
     ]
    }
   ],
   "source": [
    "#from PlotSpinalCordDatafile_withSlidingWindow import test as sodiumInterpVals\n",
    "#from PlotSpinalCordDatafile_withSlidingWindow import interpTimes, times\n",
    "#from PlotSpinalCordDatafile_withSlidingWindow import dataArr as uninterp\n",
    "from PlotSpinalCordDatafile_withSlidingWindow import slidingData \n",
    "from PlotSpinalCordDatafile_withSlidingWindow import times, dataArr"
   ]
  },
  {
   "cell_type": "code",
   "execution_count": 3,
   "id": "366b21c6",
   "metadata": {},
   "outputs": [],
   "source": [
    "method = 'dopri5'   #\n",
    "learning_rate = 1e-3\n",
    "data_size = 34\n",
    "train_len = int(data_size * 0.7)\n",
    "test_len = int((data_size - train_len) / 2)\n",
    "valid_len = data_size - train_len - test_len\n",
    "batch_size = 16\n",
    "batch_time = 2\n",
    "niters = 750 # epoch/ number of iteration steps\n",
    "input_dim = 2\n",
    "output_dim = 1\n",
    "hidden_dim = 25\n",
    "gpu = 0\n",
    "adjoint = False"
   ]
  },
  {
   "cell_type": "code",
   "execution_count": 4,
   "id": "2b66f726",
   "metadata": {
    "scrolled": true
   },
   "outputs": [],
   "source": [
    "if adjoint:\n",
    "    from torchdiffeq import odeint_adjoint as odeint\n",
    "else:\n",
    "    from torchdiffeq import odeint"
   ]
  },
  {
   "cell_type": "code",
   "execution_count": 5,
   "id": "b5a55a7b",
   "metadata": {
    "scrolled": true
   },
   "outputs": [],
   "source": [
    "device = torch.device('cuda:' + str(args.gpu) if torch.cuda.is_available() else 'cpu')\n",
    "#device = 'cpu'"
   ]
  },
  {
   "cell_type": "code",
   "execution_count": 6,
   "id": "fbe44b51",
   "metadata": {
    "scrolled": true
   },
   "outputs": [
    {
     "name": "stdout",
     "output_type": "stream",
     "text": [
      "cpu\n"
     ]
    }
   ],
   "source": [
    "print(device)"
   ]
  },
  {
   "cell_type": "code",
   "execution_count": 7,
   "id": "42249b8d",
   "metadata": {
    "scrolled": true
   },
   "outputs": [
    {
     "name": "stdout",
     "output_type": "stream",
     "text": [
      "[141. 140. 138. 139. 138. 141. 139. 141. 142. 139. 142. 139. 142. 142.\n",
      " 140. 139. 139. 141. 137. 141. 140. 141. 144. 145. 147. 143.]\n",
      "[1217737. 1016080.  874834.  834544.  774086.  733753.  693271.  632994.\n",
      "  566848.  473272.  432863.  392559.  372264.  352148.  321956.  301766.\n",
      "  271567.  239827.  170814.  130406.   98711.   71492.    7721.    6179.\n",
      "    5585.       0.]\n"
     ]
    }
   ],
   "source": [
    "print(dataArr[0])\n",
    "print(times)"
   ]
  },
  {
   "cell_type": "code",
   "execution_count": 8,
   "id": "de0161ab",
   "metadata": {},
   "outputs": [],
   "source": [
    "def moving_average(data):\n",
    "    noStr = data #define noStr to be the sodium \n",
    "    window_size = 3\n",
    "    moving_averages = [] #array to keep the new \"long wave\" values\n",
    "    length = len(noStr)\n",
    "    ##Checking to see if the variables are defined properly\n",
    "    #print(len(noStr))\n",
    "    #print(len(np.flip(times)))\n",
    "\n",
    "    # Loop through the array t o\n",
    "    #consider every window of size 3\n",
    "    i = 0\n",
    "    while  i < len(noStr)-window_size+1:\n",
    "\n",
    "        # Calculate the average of current window\n",
    "        window_average = round(np.sum(noStr[i:i+window_size]) / window_size, 2)\n",
    "\n",
    "        # Store the average of current\n",
    "        # window in moving average list\n",
    "        moving_averages.append(window_average)\n",
    "\n",
    "        # Shift window to right by one position\n",
    "        i += 1\n",
    "    moving_averages.append(noStr[length-2]) # First assign f(t_24) from no\n",
    "    moving_averages.append(noStr[length-1])\n",
    "    moving_averages[length-2] = round((moving_averages[length-3]+moving_averages[length-1])/2,2)\n",
    "    #print(noStr[23:26]) # pulling from the orginal data to identify the 2 values we need to solve for < t_n -> t_n-2 >   \n",
    "    #moving_averages.append(noStr[24]) # First assign f(t_24) from no\n",
    "    #moving_averages.append(noStr[25])\n",
    "    #moving_averages[24] = round((moving_averages[23]+moving_averages[25])/2,2)\n",
    "    return(np.asarray(moving_averages))"
   ]
  },
  {
   "cell_type": "code",
   "execution_count": 9,
   "id": "00ff1a53",
   "metadata": {},
   "outputs": [],
   "source": [
    "# This function adds data points between indices 23 and 25\n",
    "def interpData(data):\n",
    "    data = np.flip(data)\n",
    "    new_length = 11 \n",
    "    interp= np.linspace(data[23], data[25], new_length)\n",
    "    newData = np.delete(data, (23,24,25))\n",
    "    newData = np.append(newData, interp)\n",
    "    return (np.asarray(newData))"
   ]
  },
  {
   "cell_type": "code",
   "execution_count": 10,
   "id": "daa2f70b",
   "metadata": {
    "scrolled": true
   },
   "outputs": [],
   "source": [
    "#times = (np.flip(newTime))/24/60\n",
    "#print(times)"
   ]
  },
  {
   "cell_type": "code",
   "execution_count": 11,
   "id": "c154535d",
   "metadata": {
    "scrolled": true
   },
   "outputs": [
    {
     "name": "stdout",
     "output_type": "stream",
     "text": [
      "34\n"
     ]
    }
   ],
   "source": [
    "interpTimes = interpData(times)\n",
    "print(len(interpTimes))"
   ]
  },
  {
   "cell_type": "code",
   "execution_count": 12,
   "id": "8bc8ed55",
   "metadata": {},
   "outputs": [
    {
     "name": "stdout",
     "output_type": "stream",
     "text": [
      "[143.  147.  145.  144.  141.  140.  141.  137.  141.  139.  139.  140.\n",
      " 142.  142.  139.  142.  139.  142.  141.  139.  141.  138.  139.  138.\n",
      " 138.3 138.6 138.9 139.2 139.5 139.8 140.1 140.4 140.7 141. ]\n"
     ]
    }
   ],
   "source": [
    "dataInterp = interpData(dataArr[0])\n",
    "print(dataInterp)"
   ]
  },
  {
   "cell_type": "code",
   "execution_count": 13,
   "id": "d23bea47",
   "metadata": {},
   "outputs": [
    {
     "name": "stdout",
     "output_type": "stream",
     "text": [
      "[145.   145.33 143.33 141.67 140.67 139.33 139.67 139.   139.67 139.33\n",
      " 140.33 141.33 141.   141.   140.   141.   140.67 140.67 140.33 139.33\n",
      " 139.33 138.33 138.43 138.3  138.6  138.9  139.2  139.5  139.8  140.1\n",
      " 140.4  140.7  140.85 141.  ]\n"
     ]
    }
   ],
   "source": [
    "window_avgs = moving_average(dataInterp)\n",
    "print(window_avgs)"
   ]
  },
  {
   "cell_type": "code",
   "execution_count": null,
   "id": "afc5280b",
   "metadata": {},
   "outputs": [],
   "source": []
  },
  {
   "cell_type": "code",
   "execution_count": null,
   "id": "c31a5c57",
   "metadata": {},
   "outputs": [],
   "source": []
  },
  {
   "cell_type": "code",
   "execution_count": 14,
   "id": "60db7f94",
   "metadata": {
    "scrolled": true
   },
   "outputs": [],
   "source": [
    "scale = StandardScaler(copy=True, with_mean=True, with_std=True)\n",
    "scaled = scale.fit_transform(window_avgs.reshape(-1, 1).astype('float32'))"
   ]
  },
  {
   "cell_type": "code",
   "execution_count": 15,
   "id": "db848268",
   "metadata": {
    "scrolled": false
   },
   "outputs": [
    {
     "name": "stdout",
     "output_type": "stream",
     "text": [
      "tensor([  0.0000,   3.8785,   4.2910,   5.3618,  49.6472,  68.5493,  90.5597,\n",
      "        118.6208, 166.5465, 188.5882, 209.5597, 223.5806, 244.5472, 258.5167,\n",
      "        272.6104, 300.5993, 328.6611, 393.6444, 439.5792, 481.4382, 509.5507,\n",
      "        537.5597, 579.5444, 607.5236, 631.3363, 655.1490, 678.9617, 702.7744,\n",
      "        726.5872, 750.3999, 774.2126, 798.0253, 821.8380, 845.6507],\n",
      "       dtype=torch.float64)\n"
     ]
    }
   ],
   "source": [
    "true_y = torch.tensor(scaled.copy().astype('float32')).to(device)\n",
    "# true_y = torch.tensor(window_avgs.copy().astype('float32')).reshape((-1,1)).to(device)\n",
    "t = torch.tensor((interpTimes/24/60).copy()).to(device)\n",
    "print(t)\n",
    "best_loss = 1000000000"
   ]
  },
  {
   "cell_type": "code",
   "execution_count": 16,
   "id": "ab213f96",
   "metadata": {},
   "outputs": [],
   "source": [
    "def create_dataset(dataset, time_set, batch_time, len):\n",
    "    dataY0, dataY, time_T = [], [], []\n",
    "    for i in range(len-batch_time):\n",
    "        dataY0.append(dataset[i])   # initial values for ODE\n",
    "        dataY.append(dataset[i:(i + batch_time)])  # predict batch_time steps/label ahead from initial\n",
    "        time_T.append(time_set[i:(i + batch_time)])  # specify time points to predict\n",
    "    return dataY0, dataY, time_T"
   ]
  },
  {
   "cell_type": "code",
   "execution_count": 17,
   "id": "ea7a145e",
   "metadata": {
    "scrolled": true
   },
   "outputs": [
    {
     "name": "stdout",
     "output_type": "stream",
     "text": [
      "torch.Size([21, 1])\n",
      "torch.Size([21, 2, 1])\n",
      "torch.Size([21, 2])\n"
     ]
    }
   ],
   "source": [
    "train_Y0, train_Y, train_time_T = create_dataset(dataset=true_y[:train_len], time_set=t[:train_len],\n",
    "                                                 batch_time=batch_time, len=train_len)\n",
    "train_Y0 = torch.stack(train_Y0)  # (M, 1, D)=(997, 1, 2)  # convert a list of tensor to a tensor\n",
    "train_Y = torch.stack(train_Y)    # (M, T, 1, D)=(997, 3, 1,2)  # convert  a list of tensor to a tensor\n",
    "# train_Y = train_Y.permute(1, 0, 2, 3)  # convert shape of Y to be (T, M, 1, D)=(3, 997, 1,2)\n",
    "train_time_T = torch.stack(train_time_T)  # (M, T)\n",
    "print(train_Y0.shape)\n",
    "print(train_Y.shape)\n",
    "print(train_time_T.shape)"
   ]
  },
  {
   "cell_type": "code",
   "execution_count": 18,
   "id": "9c50873a",
   "metadata": {},
   "outputs": [],
   "source": [
    "test_Y0, test_Y, test_time_T = create_dataset(dataset=true_y[train_len:(train_len+test_len)], time_set=t[train_len:(train_len+test_len)],\n",
    "                                              batch_time=batch_time, len=test_len)\n",
    "test_Y0 = torch.stack(test_Y0)\n",
    "test_Y = torch.stack(test_Y)\n",
    "# test_Y = test_Y.permute(1, 0, 2, 3)\n",
    "test_time_T = torch.stack(test_time_T)"
   ]
  },
  {
   "cell_type": "code",
   "execution_count": 19,
   "id": "00bdfff8",
   "metadata": {},
   "outputs": [],
   "source": [
    "valid_Y0, valid_Y, valid_time_T = create_dataset(dataset=true_y[(train_len+test_len):], time_set=t[(train_len+test_len):],\n",
    "                                              batch_time=batch_time, len=valid_len)\n",
    "valid_Y0 = torch.stack(valid_Y0)\n",
    "valid_Y = torch.stack(valid_Y)\n",
    "# test_Y = test_Y.permute(1, 0, 2, 3)\n",
    "valid_time_T = torch.stack(valid_time_T)"
   ]
  },
  {
   "cell_type": "code",
   "execution_count": 20,
   "id": "8299976e",
   "metadata": {},
   "outputs": [],
   "source": [
    "# ------------ Put data and labels together via TensorDataset ------------- #\n",
    "train_dataset = TensorDataset(train_Y0, train_Y, train_time_T)\n",
    "train_loader = torch.utils.data.DataLoader(dataset=train_dataset, batch_size=batch_size, shuffle=True)\n",
    "test_dataset = TensorDataset(test_Y0, test_Y, test_time_T)\n",
    "test_loader = torch.utils.data.DataLoader(dataset=test_dataset, batch_size=batch_size, shuffle=True)"
   ]
  },
  {
   "cell_type": "code",
   "execution_count": 21,
   "id": "a1594435",
   "metadata": {},
   "outputs": [],
   "source": [
    "def makedirs(dirname):\n",
    "    if not os.path.exists(dirname):\n",
    "        os.makedirs(dirname)"
   ]
  },
  {
   "cell_type": "code",
   "execution_count": 22,
   "id": "4412ab9c",
   "metadata": {},
   "outputs": [],
   "source": [
    "class ODEFunc(nn.Module):\n",
    "\n",
    "    def __init__(self):\n",
    "        super(ODEFunc, self).__init__()\n",
    "\n",
    "        self.net = nn.Sequential(\n",
    "            #add more layers rather than more nodes\n",
    "            nn.Linear(input_dim, hidden_dim*4),\n",
    "            nn.Tanh(),\n",
    "            nn.Linear(hidden_dim*4, hidden_dim*2),\n",
    "            nn.Tanh(),\n",
    "            nn.Linear(hidden_dim*2, hidden_dim),\n",
    "            nn.Tanh(),\n",
    "            nn.Linear(hidden_dim, output_dim)\n",
    "        )\n",
    "\n",
    "        for m in self.net.modules():\n",
    "            if isinstance(m, nn.Linear):\n",
    "                nn.init.normal_(m.weight, mean=0, std=0.1)\n",
    "                nn.init.constant_(m.bias, val=0)\n",
    "\n",
    "    def forward(self, t, y):\n",
    "        y = torch.squeeze(y)\n",
    "        y_new = torch.hstack((t, y))\n",
    "        y_new = y_new[None, None, :]\n",
    "        #print(f'new y is: {y_new}, {y_new.shape}')\n",
    "        return self.net(y_new)"
   ]
  },
  {
   "cell_type": "code",
   "execution_count": 23,
   "id": "f26e1de3",
   "metadata": {
    "scrolled": true
   },
   "outputs": [
    {
     "name": "stdout",
     "output_type": "stream",
     "text": [
      "training time is 426.8665382862091\n"
     ]
    }
   ],
   "source": [
    "ii = 0  #\n",
    "func = ODEFunc().to(device)  # RHS of ODE system parameterized by FNN\n",
    "optimizer = optim.Adam(func.parameters(), lr=learning_rate)\n",
    "start = time.time()\n",
    "best_loss = 10000000\n",
    "train_loss_vector = []   # batch loss on training set\n",
    "test_loss_vector = []    # total loss on test set\n",
    "best_iter = 0\n",
    "\n",
    "start_time = time.time()\n",
    "\n",
    "for itr in range(1, niters + 1):  # iteration starts from 1\n",
    "    test_loss = 0.0\n",
    "    train_loss = 0.0\n",
    "    for batch_idx, (y0_train, y_train, t_train) in enumerate(train_loader):  # mini-batch\n",
    "        batch_loss = 0.0\n",
    "        for i in range(len(t_train)):  # feed the samples from mini-batch to odeint one by one\n",
    "            # print(f'------ batch idx {batch_idx}, i is: {i}, len of t is: {len(t_train)}')\n",
    "            y_train1 = y_train[i]  # pick one sample with shape (T, 1, D)\n",
    "            y_train1 = y_train1[:, None, None, :]  # convert shape of y from (T, 1, D) to ideal shape (T, 1, 1, D)\n",
    "            y0_train1 = y0_train[i]  # pick one initial value with shape (1, D)\n",
    "            y0_train1 = y0_train1[None, :]  # convert shape of y0 from (1, D) to ideal shape (1, 1, D)\n",
    "            pred_y = odeint(func, y0_train1, t_train[i]).to(device)  # shape of t_train is (batch_time, )\n",
    "            loss = torch.mean(torch.abs(pred_y - y_train1))\n",
    "            batch_loss += loss\n",
    "        optimizer.zero_grad()   # zero all your gradient before you do the backpro.\n",
    "        batch_loss.backward()   # backpro to compute the gradient\n",
    "        optimizer.step()  # update the parameters theta=(W,b) using the gradient obtained using loss.backward()\n",
    "        train_loss += batch_loss.item()  # count training loss for all training data points\n",
    "        train_loss_vector.append(train_loss)\n",
    "    with torch.no_grad():\n",
    "        for batch_idx1, (y0_test, y_test, t_test) in enumerate(test_loader):  # mini-batch\n",
    "            batch_loss1 = 0.0\n",
    "            for i in range(len(t_test)):  # feed samples from mini-batch to odeint one by one\n",
    "                y_test1 = y_test[i]  # pick one element with shape (T, 1, D)\n",
    "                y_test1 = y_test1[:, None, None, :]  # convert the shape from (T, 1, D) to (T, 1, 1, D)\n",
    "                y0_test1 = y0_test[i]  # pick one initial with shape (1, D)\n",
    "                y0_test1 = y0_test1[None, :]   # convert the shape to (1, 1, D)\n",
    "                pred_y1 = odeint(func, y0_test1, t_test[i])\n",
    "                loss1 = torch.mean(torch.abs(pred_y1 - y_test1))\n",
    "                batch_loss1 += loss1.item()\n",
    "            test_loss += batch_loss1\n",
    "            test_loss_vector.append(test_loss)\n",
    "        if test_loss < best_loss:\n",
    "            best_loss = test_loss\n",
    "            best_iter = itr\n",
    "            save_path = f'/Users/dezmon/CSCE587/REU/REU-NODE-main/best_model_{batch_time}_{niters}_{start_time}.pth'\n",
    "            torch.save(func.state_dict(), save_path)  # saving the model\n",
    "            \n",
    "end = time.time()\n",
    "print(f'training time is {end-start}')\n",
    "_bt = batch_time\n",
    "_bs = batch_size\n",
    "while(os.path.exists(f'/Users/dezmon/CSCE587/REU/REU-NODE-main/training loss_{_bt}_{_bs}.txt')):\n",
    "    _bt += 1\n",
    "    _bs += 1\n",
    "np.savetxt(f'/Users/dezmon/CSCE587/REU/REU-NODE-main/training loss_{_bt}_{_bs}.txt', train_loss_vector, delimiter='\\n')\n",
    "np.savetxt(f'/Users/dezmon/CSCE587/REU/REU-NODE-main/val loss_{_bt}_{_bs}.txt', test_loss_vector, delimiter='\\n')"
   ]
  },
  {
   "cell_type": "code",
   "execution_count": 25,
   "id": "6eacddbf",
   "metadata": {},
   "outputs": [
    {
     "name": "stdout",
     "output_type": "stream",
     "text": [
      "Best Loss: 0.2813877463340759\n",
      "Relative Error: -1.006659984588623\n"
     ]
    },
    {
     "data": {
      "image/png": "[encoded data removed]",
      "text/plain": [
       "<Figure size 432x288 with 1 Axes>"
      ]
     },
     "metadata": {
      "needs_background": "light"
     },
     "output_type": "display_data"
    }
   ],
   "source": [
    "true_y0 = true_y[0]\n",
    "func.load_state_dict(\n",
    "    torch.load(f'/Users/dezmon/CSCE587/REU/REU-NODE-main/best_model_{batch_time}_{niters}_{start_time}.pth', map_location=lambda storage, loc: storage))\n",
    "whole_pred = odeint(func, true_y0, t)\n",
    "whole_pred = whole_pred.detach().cpu()\n",
    "test_pred = odeint(func, true_y[23], t[23:28])\n",
    "test_pred = test_pred.detach().cpu()\n",
    "#valid_pred = odeint(func, true_y[23], t[23:28])\n",
    "#valid_pred = valid_pred.detach().cpu()\n",
    "relative_error = torch.sum(torch.abs(true_y[23].cpu() - test_pred) / true_y[23].cpu())\n",
    "print(f'Best Loss: {best_loss}')\n",
    "print(f'Relative Error: {relative_error}')\n",
    "plt.plot(t.cpu(), scale.inverse_transform(true_y.cpu()), '-ro')\n",
    "plt.plot(t.cpu(), scale.inverse_transform(whole_pred),'-go')\n",
    "# plt.plot(t[20:23].cpu(), scale.inverse_transform(test_pred))\n",
    "plt.plot(t[23:28].cpu(), scale.inverse_transform(test_pred), '-bo')\n",
    "plt.xlabel('t')\n",
    "plt.ylabel('y')\n",
    "plt.legend(['ground truth', 'pred', 'test'])\n",
    "plt.title('NODE result for dynamic system')\n",
    "plt.show()"
   ]
  },
  {
   "cell_type": "code",
   "execution_count": 26,
   "id": "ab670065",
   "metadata": {},
   "outputs": [
    {
     "name": "stdout",
     "output_type": "stream",
     "text": [
      "Best Loss: 0.2813877463340759\n",
      "Relative Error: 5.701632976531982\n"
     ]
    },
    {
     "data": {
      "image/png": "[encoded data removed]",
      "text/plain": [
       "<Figure size 432x288 with 1 Axes>"
      ]
     },
     "metadata": {
      "needs_background": "light"
     },
     "output_type": "display_data"
    }
   ],
   "source": [
    "true_y0 = true_y[0]\n",
    "whole_pred = odeint(func, true_y0, t)\n",
    "whole_pred = whole_pred.detach().cpu()\n",
    "valid_pred = odeint(func, true_y[29], t[29:])\n",
    "valid_pred = valid_pred.detach().cpu()\n",
    "relative_error = torch.sum(torch.abs(true_y[29:].cpu() - valid_pred) / true_y[29:].cpu())\n",
    "print(f'Best Loss: {best_loss}')\n",
    "print(f'Relative Error: {relative_error}')\n",
    "plt.plot(t.cpu(), scale.inverse_transform(true_y.cpu()),'-ro')\n",
    "plt.plot(t.cpu(), scale.inverse_transform(whole_pred),'-go')\n",
    "plt.plot(t[29:].cpu(), scale.inverse_transform(valid_pred),'-bo')\n",
    "plt.xlabel('t')\n",
    "plt.ylabel('y')\n",
    "plt.legend(['ground truth', 'pred', 'validation'])\n",
    "#plt.title('NODE result for dynamic system dy/dt=Ay^3')\n",
    "plt.show()"
   ]
  },
  {
   "cell_type": "code",
   "execution_count": null,
   "id": "8b33e99a",
   "metadata": {},
   "outputs": [],
   "source": [
    "min(train_loss_vector)"
   ]
  },
  {
   "cell_type": "code",
   "execution_count": null,
   "id": "bb442943",
   "metadata": {},
   "outputs": [],
   "source": [
    "print(pred_y)\n",
    "print(y_test1)"
   ]
  },
  {
   "cell_type": "code",
   "execution_count": null,
   "id": "aa5b2669",
   "metadata": {},
   "outputs": [],
   "source": []
  }
 ],
 "metadata": {
  "kernelspec": {
   "display_name": "Python 3 (ipykernel)",
   "language": "python",
   "name": "python3"
  },
  "language_info": {
   "codemirror_mode": {
    "name": "ipython",
    "version": 3
   },
   "file_extension": ".py",
   "mimetype": "text/x-python",
   "name": "python",
   "nbconvert_exporter": "python",
   "pygments_lexer": "ipython3",
   "version": "3.9.7"
  }
 },
 "nbformat": 4,
 "nbformat_minor": 5
}
