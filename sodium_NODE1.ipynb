{
 "cells": [
  {
   "cell_type": "code",
   "execution_count": 2,
   "id": "c96d3b4d",
   "metadata": {},
   "outputs": [],
   "source": [
    "import os\n",
    "import argparse\n",
    "import time\n",
    "import numpy as np\n",
    "import torch\n",
    "import torch.nn as nn\n",
    "import torch.optim as optim\n",
    "import matplotlib.pyplot as plt\n",
    "\n",
    "from sklearn.model_selection import train_test_split"
   ]
  },
  {
   "cell_type": "code",
   "execution_count": 3,
   "id": "731e2c2a",
   "metadata": {},
   "outputs": [
    {
     "name": "stdout",
     "output_type": "stream",
     "text": [
      "BUN , BUN/Creatinine Ratio\n",
      "0.8774417368026577\n",
      "BUN/Creatinine Ratio , BUN\n",
      "0.8774417368026577\n"
     ]
    }
   ],
   "source": [
    "from PlotSpinalCordDatafile import test as sodiumInterpVals\n",
    "from PlotSpinalCordDatafile import interpTimes, times"
   ]
  },
  {
   "cell_type": "code",
   "execution_count": 21,
   "id": "8fbe1ab7",
   "metadata": {},
   "outputs": [],
   "source": [
    "parser = argparse.ArgumentParser('ODE demo')\n",
    "parser.add_argument('--method', type=str, choices=['dopri5', 'adams'], default='dopri5')\n",
    "parser.add_argument('--data_size', type=int, default=1521)\n",
    "parser.add_argument('--batch_time', type=int, default=2)\n",
    "parser.add_argument('--batch_size', type=int, default=2)\n",
    "parser.add_argument('--niters', type=int, default=1000)\n",
    "parser.add_argument('--test_freq', type=int, default=20)\n",
    "parser.add_argument('--viz', default=True, action='store_false')\n",
    "parser.add_argument('--gpu', type=int, default=0)\n",
    "parser.add_argument('--adjoint', action='store_true')\n",
    "# line below is edited to fix error\n",
    "args, unknown = parser.parse_known_args()"
   ]
  },
  {
   "cell_type": "code",
   "execution_count": 22,
   "id": "2b66f726",
   "metadata": {},
   "outputs": [],
   "source": [
    "if args.adjoint:\n",
    "    from torchdiffeq import odeint_adjoint as odeint\n",
    "else:\n",
    "    from torchdiffeq import odeint"
   ]
  },
  {
   "cell_type": "code",
   "execution_count": 23,
   "id": "b5a55a7b",
   "metadata": {},
   "outputs": [],
   "source": [
    "device = torch.device('cuda:' + str(args.gpu) if torch.cuda.is_available() else 'cpu')\n",
    "#device = 'cpu'"
   ]
  },
  {
   "cell_type": "code",
   "execution_count": 24,
   "id": "fbe44b51",
   "metadata": {},
   "outputs": [
    {
     "name": "stdout",
     "output_type": "stream",
     "text": [
      "cuda:0\n"
     ]
    }
   ],
   "source": [
    "print(device)"
   ]
  },
  {
   "cell_type": "code",
   "execution_count": 38,
   "id": "db848268",
   "metadata": {},
   "outputs": [],
   "source": [
    "true_y = torch.tensor((np.asarray(sodiumInterpVals[0])).astype('float32')).to(device)\n",
    "true_y = true_y.reshape((1691,1))\n",
    "t = (torch.linspace(0, times[0], int(times[0]/720))/24/60).to(device)\n",
    "\n",
    "best_loss = 1000000000"
   ]
  },
  {
   "cell_type": "code",
   "execution_count": 26,
   "id": "d17b6f7e",
   "metadata": {},
   "outputs": [],
   "source": [
    "true_y_train, true_y_test = train_test_split(true_y, test_size=0.1, shuffle=False)"
   ]
  },
  {
   "cell_type": "code",
   "execution_count": 27,
   "id": "4f4a5421",
   "metadata": {},
   "outputs": [],
   "source": [
    "rngGen = np.random.default_rng(2225)\n",
    "\n",
    "def get_batch():\n",
    "    size = args.data_size - args.batch_time\n",
    "    rng = rngGen.integers(0,size-args.batch_time, endpoint=True) # Gen random num from 0 - 1659\n",
    "    \n",
    "    # 1d tensor with batch_size number of entries containing consecutive ints\n",
    "    s = torch.from_numpy(np.arange(size, dtype=np.int64)[rng : rng + args.batch_size])\n",
    "    \n",
    "    # initial points to perform ODESolver on\n",
    "    batch_y0 = true_y_train[s]\n",
    "    \n",
    "    # Times to generate points for. Contains the next batch_time number of times following those corresponding to batch_y0's\n",
    "    batch_t = t[(s)[:args.batch_time]]  # (T)\n",
    "    \n",
    "    # Values for batch_t times to test against and generate loss\n",
    "    batch_y = torch.stack([true_y[s + i] for i in range(args.batch_time)], dim=0)  # (T, M, D)\n",
    "    \n",
    "    return batch_y0.to(device), batch_t.to(device), batch_y.to(device)"
   ]
  },
  {
   "cell_type": "code",
   "execution_count": 28,
   "id": "7d97090a",
   "metadata": {},
   "outputs": [],
   "source": [
    "def makedirs(dirname):\n",
    "    if not os.path.exists(dirname):\n",
    "        os.makedirs(dirname)"
   ]
  },
  {
   "cell_type": "code",
   "execution_count": 29,
   "id": "83fd3f7a",
   "metadata": {},
   "outputs": [],
   "source": [
    "# if args.viz:\n",
    "#     makedirs('png')\n",
    "#     import matplotlib.pyplot as plt\n",
    "#     fig = plt.figure(figsize=(12, 4), facecolor='white')\n",
    "#     ax_traj = fig.add_subplot(131, frameon=False)\n",
    "#     ax_phase = fig.add_subplot(132, frameon=False)\n",
    "#     ax_vecfield = fig.add_subplot(133, frameon=False)\n",
    "#     plt.show(block=False)"
   ]
  },
  {
   "cell_type": "code",
   "execution_count": 30,
   "id": "38ac18b5",
   "metadata": {},
   "outputs": [],
   "source": [
    "# def visualize(true_y, pred_y, odefunc, itr):\n",
    "\n",
    "#     if args.viz:\n",
    "\n",
    "#         ax_traj.cla()\n",
    "#         ax_traj.set_title('Trajectories')\n",
    "#         ax_traj.set_xlabel('t')\n",
    "#         ax_traj.set_ylabel('x,y')\n",
    "#         ax_traj.plot(t.cpu().numpy(), true_y.cpu().numpy()[:, 0, 0], t.cpu().numpy(), true_y.cpu().numpy()[:, 0, 1], 'g-')\n",
    "#         ax_traj.plot(t.cpu().numpy(), pred_y.cpu().numpy()[:, 0, 0], '--', t.cpu().numpy(), pred_y.cpu().numpy()[:, 0, 1], 'b--')\n",
    "#         ax_traj.set_xlim(t.cpu().min(), t.cpu().max())\n",
    "#         ax_traj.set_ylim(-2, 2)\n",
    "#         ax_traj.legend()\n",
    "\n",
    "#         ax_phase.cla()\n",
    "#         ax_phase.set_title('Phase Portrait')\n",
    "#         ax_phase.set_xlabel('x')\n",
    "#         ax_phase.set_ylabel('y')\n",
    "#         ax_phase.plot(true_y.cpu().numpy()[:, 0, 0], true_y.cpu().numpy()[:, 0, 1], 'g-')\n",
    "#         ax_phase.plot(pred_y.cpu().numpy()[:, 0, 0], pred_y.cpu().numpy()[:, 0, 1], 'b--')\n",
    "#         ax_phase.set_xlim(-2, 2)\n",
    "#         ax_phase.set_ylim(-2, 2)\n",
    "\n",
    "#         ax_vecfield.cla()\n",
    "#         ax_vecfield.set_title('Learned Vector Field')\n",
    "#         ax_vecfield.set_xlabel('x')\n",
    "#         ax_vecfield.set_ylabel('y')\n",
    "\n",
    "#         y, x = np.mgrid[-2:2:21j, -2:2:21j]\n",
    "#         dydt = odefunc(0, torch.Tensor(np.stack([x, y], -1).reshape(21 * 21, 2)).to(device)).cpu().detach().numpy()\n",
    "#         mag = np.sqrt(dydt[:, 0]**2 + dydt[:, 1]**2).reshape(-1, 1)\n",
    "#         dydt = (dydt / mag)\n",
    "#         dydt = dydt.reshape(21, 21, 2)\n",
    "\n",
    "#         ax_vecfield.streamplot(x, y, dydt[:, :, 0], dydt[:, :, 1], color=\"black\")\n",
    "#         ax_vecfield.set_xlim(-2, 2)\n",
    "#         ax_vecfield.set_ylim(-2, 2)\n",
    "\n",
    "#         fig.tight_layout()\n",
    "#         plt.savefig('png/{:03d}'.format(itr))\n",
    "#         plt.draw()\n",
    "#         plt.pause(0.001)"
   ]
  },
  {
   "cell_type": "code",
   "execution_count": 31,
   "id": "db33fb76",
   "metadata": {},
   "outputs": [],
   "source": [
    "class ODEFunc(nn.Module):\n",
    "\n",
    "    def __init__(self):\n",
    "        super(ODEFunc, self).__init__()\n",
    "\n",
    "        self.net = nn.Sequential(\n",
    "            #add more layers rather than more nodes\n",
    "            nn.Linear(1, 100),\n",
    "            nn.Tanh(),\n",
    "            nn.Linear(100,90),\n",
    "            nn.Tanh(),\n",
    "            nn.Linear(90,80),\n",
    "            nn.Tanh(),\n",
    "            nn.Linear(80, 70),\n",
    "            nn.Tanh(),\n",
    "            nn.Linear(70,60),\n",
    "            nn.Tanh(),\n",
    "            nn.Linear(60,50),\n",
    "            nn.Tanh(),\n",
    "            nn.Linear(50,40),\n",
    "            nn.Tanh(),\n",
    "            nn.Linear(40,30),\n",
    "            nn.Tanh(),\n",
    "            nn.Linear(30,20),\n",
    "            nn.Tanh(),\n",
    "            nn.Linear(20,10),\n",
    "            nn.Tanh(),\n",
    "            nn.Linear(10,1),\n",
    "            nn.Tanh(),\n",
    "        )\n",
    "\n",
    "        for m in self.net.modules():\n",
    "            if isinstance(m, nn.Linear):\n",
    "                nn.init.normal_(m.weight, mean=0, std=0.1)\n",
    "                nn.init.constant_(m.bias, val=0)\n",
    "\n",
    "    def forward(self, t, y):\n",
    "        return self.net(y)"
   ]
  },
  {
   "cell_type": "code",
   "execution_count": 32,
   "id": "30f3ada5",
   "metadata": {},
   "outputs": [],
   "source": [
    "# class RunningAverageMeter(object):\n",
    "#     \"\"\"Computes and stores the average and current value\"\"\"\n",
    "\n",
    "#     def __init__(self, momentum=0.99):\n",
    "#         self.momentum = momentum\n",
    "#         self.reset()\n",
    "\n",
    "#     def reset(self):\n",
    "#         self.val = None\n",
    "#         self.avg = 0\n",
    "\n",
    "#     def update(self, val):\n",
    "#         if self.val is None:\n",
    "#             self.avg = val\n",
    "#         else:\n",
    "#             self.avg = self.avg * self.momentum + val * (1 - self.momentum)\n",
    "#         self.val = val\n"
   ]
  },
  {
   "cell_type": "code",
   "execution_count": 33,
   "id": "9421c027",
   "metadata": {
    "scrolled": true
   },
   "outputs": [
    {
     "name": "stdout",
     "output_type": "stream",
     "text": [
      "Iter 0020 | Total Loss 1.332924\n",
      "Iter 0040 | Total Loss 4.535427\n",
      "Iter 0060 | Total Loss 0.214562\n",
      "Iter 0080 | Total Loss 41.113239\n",
      "Iter 0100 | Total Loss 13.093819\n",
      "Iter 0120 | Total Loss 3.247360\n",
      "Iter 0140 | Total Loss 8.477054\n",
      "Iter 0160 | Total Loss 3.782810\n",
      "Iter 0180 | Total Loss 0.247966\n",
      "Iter 0200 | Total Loss 0.855570\n",
      "Iter 0220 | Total Loss 4.680179\n",
      "Iter 0240 | Total Loss 6.427912\n",
      "Iter 0260 | Total Loss 9.971390\n",
      "Iter 0280 | Total Loss 4.572869\n",
      "Iter 0300 | Total Loss 0.558810\n",
      "Iter 0320 | Total Loss 1.542726\n",
      "Iter 0340 | Total Loss 9.175077\n",
      "Iter 0360 | Total Loss 8.507881\n",
      "Iter 0380 | Total Loss 14.749225\n",
      "Iter 0400 | Total Loss 32.335369\n",
      "Iter 0420 | Total Loss 24.842993\n",
      "Iter 0440 | Total Loss 26.191628\n",
      "Iter 0460 | Total Loss 17.026451\n",
      "Iter 0480 | Total Loss 4.276896\n",
      "Iter 0500 | Total Loss 4.144743\n",
      "Iter 0520 | Total Loss 3.349540\n",
      "Iter 0540 | Total Loss 3.654124\n",
      "Iter 0560 | Total Loss 8.195995\n",
      "Iter 0580 | Total Loss 8.566195\n",
      "Iter 0600 | Total Loss 9.795826\n",
      "Iter 0620 | Total Loss 8.012410\n",
      "Iter 0640 | Total Loss 10.322498\n",
      "Iter 0660 | Total Loss 12.557621\n",
      "Iter 0680 | Total Loss 13.668449\n",
      "Iter 0700 | Total Loss 11.675619\n",
      "Iter 0720 | Total Loss 8.710218\n",
      "Iter 0740 | Total Loss 5.293064\n",
      "Iter 0760 | Total Loss 5.119195\n",
      "Iter 0780 | Total Loss 19.598642\n",
      "Iter 0800 | Total Loss 43.010738\n",
      "Iter 0820 | Total Loss 50.884708\n",
      "Iter 0840 | Total Loss 35.346691\n",
      "Iter 0860 | Total Loss 27.109293\n",
      "Iter 0880 | Total Loss 29.359833\n",
      "Iter 0900 | Total Loss 13.139191\n",
      "Iter 0920 | Total Loss 2.081608\n",
      "Iter 0940 | Total Loss 2.129606\n",
      "Iter 0960 | Total Loss 4.604095\n",
      "Iter 0980 | Total Loss 11.530817\n",
      "Iter 1000 | Total Loss 6.957990\n"
     ]
    }
   ],
   "source": [
    "ii = 0\n",
    "\n",
    "func = ODEFunc().to(device)\n",
    "\n",
    "optimizer = optim.Adam(func.parameters(), lr=1e-4)\n",
    "end = time.time()\n",
    "\n",
    "# time_meter = RunningAverageMeter(0.97)\n",
    "\n",
    "# loss_meter = RunningAverageMeter(0.97)\n",
    "\n",
    "temp_loss = 10000000\n",
    "\n",
    "for itr in range(1, args.niters + 1):\n",
    "        optimizer.zero_grad()\n",
    "        batch_y0, batch_t, batch_y = get_batch()\n",
    "        pred_y = odeint(func, batch_y0, batch_t, method='dopri5').to(device)\n",
    "        loss = torch.mean(torch.square(pred_y - batch_y))\n",
    "        loss.backward()\n",
    "        optimizer.step()\n",
    "\n",
    "#         time_meter.update(time.time() - end)\n",
    "#         loss_meter.update(loss.item())\n",
    "\n",
    "        if itr % args.test_freq == 0:\n",
    "            with torch.no_grad():\n",
    "                pred_y = odeint(func, true_y_train, t[:1521], method='dopri5')\n",
    "                loss = torch.mean(torch.square(pred_y - true_y_train))\n",
    "                print('Iter {:04d} | Total Loss {:.6f}'.format(itr, loss.item()))\n",
    "#                 visualize(true_y, pred_y, func, ii)\n",
    "#                 ii += 1\n",
    "                if temp_loss > loss.item():\n",
    "                    temp_loss = loss.item()\n",
    "                    temp_pred = torch.clone(pred_y)\n",
    "        end = time.time()"
   ]
  },
  {
   "cell_type": "code",
   "execution_count": 36,
   "id": "2604f55d",
   "metadata": {},
   "outputs": [
    {
     "name": "stdout",
     "output_type": "stream",
     "text": [
      "0.21456198394298553\n",
      "tensor([[[143.0000],\n",
      "         [143.5161],\n",
      "         [144.0321],\n",
      "         ...,\n",
      "         [140.3854],\n",
      "         [140.3890],\n",
      "         [140.3926]],\n",
      "\n",
      "        [[142.9995],\n",
      "         [143.5155],\n",
      "         [144.0316],\n",
      "         ...,\n",
      "         [140.3849],\n",
      "         [140.3885],\n",
      "         [140.3920]],\n",
      "\n",
      "        [[142.9990],\n",
      "         [143.5150],\n",
      "         [144.0311],\n",
      "         ...,\n",
      "         [140.3843],\n",
      "         [140.3879],\n",
      "         [140.3915]],\n",
      "\n",
      "        ...,\n",
      "\n",
      "        [[142.2116],\n",
      "         [142.7298],\n",
      "         [143.2481],\n",
      "         ...,\n",
      "         [139.5855],\n",
      "         [139.5890],\n",
      "         [139.5926]],\n",
      "\n",
      "        [[142.2110],\n",
      "         [142.7293],\n",
      "         [143.2476],\n",
      "         ...,\n",
      "         [139.5849],\n",
      "         [139.5885],\n",
      "         [139.5921]],\n",
      "\n",
      "        [[142.2105],\n",
      "         [142.7288],\n",
      "         [143.2471],\n",
      "         ...,\n",
      "         [139.5844],\n",
      "         [139.5880],\n",
      "         [139.5916]]], device='cuda:0')\n"
     ]
    },
    {
     "data": {
      "text/plain": [
       "<matplotlib.legend.Legend at 0x209a003a340>"
      ]
     },
     "execution_count": 36,
     "metadata": {},
     "output_type": "execute_result"
    },
    {
     "data": {
      "image/png": "[encoded data removed]",
      "text/plain": [
       "<Figure size 432x288 with 1 Axes>"
      ]
     },
     "metadata": {
      "needs_background": "light"
     },
     "output_type": "display_data"
    }
   ],
   "source": [
    "print(temp_loss)\n",
    "print(temp_pred)\n",
    "plt.plot(t.cpu(), true_y.cpu(), label='ground truth')\n",
    "plt.plot(t[:1521].cpu(), temp_pred[0].cpu(), label='prediction')\n",
    "plt.legend()"
   ]
  },
  {
   "cell_type": "code",
   "execution_count": 40,
   "id": "a70d3ea2",
   "metadata": {},
   "outputs": [
    {
     "name": "stdout",
     "output_type": "stream",
     "text": [
      "0.21456198394298553\n",
      "tensor([[[143.0000],\n",
      "         [143.5161],\n",
      "         [144.0321],\n",
      "         ...,\n",
      "         [140.3854],\n",
      "         [140.3890],\n",
      "         [140.3926]],\n",
      "\n",
      "        [[142.9995],\n",
      "         [143.5155],\n",
      "         [144.0316],\n",
      "         ...,\n",
      "         [140.3849],\n",
      "         [140.3885],\n",
      "         [140.3920]],\n",
      "\n",
      "        [[142.9990],\n",
      "         [143.5150],\n",
      "         [144.0311],\n",
      "         ...,\n",
      "         [140.3843],\n",
      "         [140.3879],\n",
      "         [140.3915]],\n",
      "\n",
      "        ...,\n",
      "\n",
      "        [[142.2116],\n",
      "         [142.7298],\n",
      "         [143.2481],\n",
      "         ...,\n",
      "         [139.5855],\n",
      "         [139.5890],\n",
      "         [139.5926]],\n",
      "\n",
      "        [[142.2110],\n",
      "         [142.7293],\n",
      "         [143.2476],\n",
      "         ...,\n",
      "         [139.5849],\n",
      "         [139.5885],\n",
      "         [139.5921]],\n",
      "\n",
      "        [[142.2105],\n",
      "         [142.7288],\n",
      "         [143.2471],\n",
      "         ...,\n",
      "         [139.5844],\n",
      "         [139.5880],\n",
      "         [139.5916]]], device='cuda:0')\n"
     ]
    },
    {
     "data": {
      "text/plain": [
       "<matplotlib.legend.Legend at 0x2099ffe4370>"
      ]
     },
     "execution_count": 40,
     "metadata": {},
     "output_type": "execute_result"
    },
    {
     "data": {
      "image/png": "[encoded data removed]",
      "text/plain": [
       "<Figure size 432x288 with 1 Axes>"
      ]
     },
     "metadata": {
      "needs_background": "light"
     },
     "output_type": "display_data"
    }
   ],
   "source": [
    "if temp_loss < best_loss:\n",
    "    best_loss = temp_loss\n",
    "    best_pred = torch.clone(temp_pred)\n",
    "print(best_loss)\n",
    "print(best_pred)\n",
    "plt.plot(t.cpu(), true_y.cpu(), label='ground truth')\n",
    "plt.plot(t[:1521].cpu(), best_pred[0].cpu(), label='prediction')\n",
    "plt.legend()"
   ]
  },
  {
   "cell_type": "code",
   "execution_count": null,
   "id": "92d24615",
   "metadata": {},
   "outputs": [],
   "source": []
  }
 ],
 "metadata": {
  "kernelspec": {
   "display_name": "Python 3 (ipykernel)",
   "language": "python",
   "name": "python3"
  },
  "language_info": {
   "codemirror_mode": {
    "name": "ipython",
    "version": 3
   },
   "file_extension": ".py",
   "mimetype": "text/x-python",
   "name": "python",
   "nbconvert_exporter": "python",
   "pygments_lexer": "ipython3",
   "version": "3.9.7"
  }
 },
 "nbformat": 4,
 "nbformat_minor": 5
}
